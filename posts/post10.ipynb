{
 "cells": [
  {
   "cell_type": "markdown",
   "metadata": {
    "collapsed": true
   },
   "source": [
    "So far my data science training has been entirely self-directed but I'm aware completing the final steps&mdash;networking and landing a job&mdash;can be exceedingly difficult on your own. Because it's been nearly 7 months since I decided to embark on this journey, I figured this is a good opportunity to share my plan going forward. \n",
    "<!-- TEASER_END -->\n",
    "\n",
    "Ever since I finished my PhD, I've spent practically every waking hour learning the ins and outs of data science. Coming from such a [disparate background](https://www.bcm.edu/news/molecular-physiology-and-biophysics/nanoparticle-therapy-for-autoimmune-disease) has been immensely challenging, but I'm definitely pleased to reunite with linear algebra, calculus and programming! Another hurdle has been navigating such an emergent, multidisciplinary, and rapidly evolving career path, but it's kind of hard to quit when you're exploring such a captivating field. \n",
    "\n",
    "Fortunately, I've been doing something right during this time because I recently discovered I was accepted into [Insight Data Science](insightdatascience.com). Here's a description of the fellowship from their white paper:\n",
    "<img src=\"/images/insightlogo.png\" width=\"400\">\n",
    "\n",
    "> 1. 7 week, full-time, postdoctoral data science training fellowship.\n",
    "> 2. Full tuition scholarship for all Fellows.\n",
    "> 3. Self-directed, project-based learning (no classes!) under the guidance of top industry data scientists.\n",
    "> 4. A group of smart people who are excited about working on interesting problems while having a positive impact.\n",
    "> 5. Interview at top companies immediately following the program.\n",
    "\n",
    "I first learned about Insight at a talk during graduate school. The crux of the fellowship is completing an end-to-end project to showcase your data science skills with help from their mentors&mdash;data scientists from top companies (the same ones you have the opportunity to interview with!).\n",
    "\n",
    "What excites me most about the program is the amazing network you get to build as highlighted by every alumnus I've chatted with. In fact, Insight Data Science recruits PhDs from practically every discipline&mdash;I'm looking forward to being surrounded by a diverse group of like-minded peers!\n",
    "\n",
    "Insight Data Science is held in New York City, among a few other places, and helps you find a local position, which is perfect because my wife and I recently moved here&mdash;a lifelong aspiration. There's certainly a pleasant *je ne sais quoi* about living here opposed to just visiting, particularly Brooklyn. The city's incomparable energy (not to mention a 3 minute walk to the view below) has really helped me stay the course! Being the nerve center for data science and AI on the east coast doesn't hurt either. \n",
    "\n",
    "I'm thrilled to be nearing the home stretch. I'd love to share the journey in detail but I'll save that for a future blog post.\n",
    "\n",
    "<a class=\"image-reference\" href=\"/images/nycskylinebw.jpg\"><img src=\"/images/nycskylinebw.jpg\"></a>"
   ]
  }
 ],
 "metadata": {
  "kernelspec": {
   "display_name": "Python 3",
   "language": "python",
   "name": "python3"
  },
  "language_info": {
   "codemirror_mode": {
    "name": "ipython",
    "version": 3
   },
   "file_extension": ".py",
   "mimetype": "text/x-python",
   "name": "python",
   "nbconvert_exporter": "python",
   "pygments_lexer": "ipython3",
   "version": "3.7.3"
  }
 },
 "nbformat": 4,
 "nbformat_minor": 2
}
